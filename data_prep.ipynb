{
 "cells": [
  {
   "cell_type": "code",
   "execution_count": 1,
   "metadata": {},
   "outputs": [],
   "source": [
    "import requests\n",
    "import json\n",
    "import pandas as pd\n",
    "import numpy as np\n",
    "import os"
   ]
  },
  {
   "cell_type": "code",
   "execution_count": 2,
   "metadata": {},
   "outputs": [],
   "source": [
    "## Get Geolocations for federal states and districts\n",
    "with open('C:/Users/simon/Jupyter/Covid/Dashboard/landkreise_simplify200.geojson', 'r') as read_file:\n",
    "    geo_kreis = json.load(read_file)\n",
    "\n",
    "with open('C:/Users/simon/Jupyter/Covid/Dashboard/bundeslaender_simplify200.geojson', 'r') as read_file:\n",
    "    geo_land = json.load(read_file)"
   ]
  },
  {
   "cell_type": "code",
   "execution_count": 3,
   "metadata": {},
   "outputs": [
    {
     "data": {
      "text/html": [
       "<div>\n",
       "<style scoped>\n",
       "    .dataframe tbody tr th:only-of-type {\n",
       "        vertical-align: middle;\n",
       "    }\n",
       "\n",
       "    .dataframe tbody tr th {\n",
       "        vertical-align: top;\n",
       "    }\n",
       "\n",
       "    .dataframe thead th {\n",
       "        text-align: right;\n",
       "    }\n",
       "</style>\n",
       "<table border=\"1\" class=\"dataframe\">\n",
       "  <thead>\n",
       "    <tr style=\"text-align: right;\">\n",
       "      <th></th>\n",
       "      <th>Bundesland</th>\n",
       "      <th>Einwohner</th>\n",
       "    </tr>\n",
       "  </thead>\n",
       "  <tbody>\n",
       "    <tr>\n",
       "      <th>0</th>\n",
       "      <td>Baden-Württemberg</td>\n",
       "      <td>11100394</td>\n",
       "    </tr>\n",
       "    <tr>\n",
       "      <th>1</th>\n",
       "      <td>Bayern</td>\n",
       "      <td>13124737</td>\n",
       "    </tr>\n",
       "    <tr>\n",
       "      <th>2</th>\n",
       "      <td>Berlin</td>\n",
       "      <td>3669491</td>\n",
       "    </tr>\n",
       "    <tr>\n",
       "      <th>3</th>\n",
       "      <td>Brandenburg</td>\n",
       "      <td>2521893</td>\n",
       "    </tr>\n",
       "    <tr>\n",
       "      <th>4</th>\n",
       "      <td>Bremen</td>\n",
       "      <td>681202</td>\n",
       "    </tr>\n",
       "  </tbody>\n",
       "</table>\n",
       "</div>"
      ],
      "text/plain": [
       "          Bundesland  Einwohner\n",
       "0  Baden-Württemberg   11100394\n",
       "1             Bayern   13124737\n",
       "2             Berlin    3669491\n",
       "3        Brandenburg    2521893\n",
       "4             Bremen     681202"
      ]
     },
     "execution_count": 3,
     "metadata": {},
     "output_type": "execute_result"
    }
   ],
   "source": [
    "## Get population stats for federal states and districts\n",
    "df_einwohner_kreis = pd.read_csv('C:/Users/simon/Jupyter/Covid/Dashboard/Einwohner_kreis.csv', encoding = 'ISO-8859-1', sep=';', dtype= {'RS': str, 'Kreis': str, 'Einwohner': int})\n",
    "\n",
    "df_einwohner_land = pd.read_csv('C:/Users/simon/Jupyter/Covid//Dashboard/Einwohner_land.csv', encoding = 'ISO-8859-1', sep=';', dtype= {'RS': str, 'Kreis': str, 'Einwohner': int})\n",
    "df_einwohner_land.head()"
   ]
  },
  {
   "cell_type": "code",
   "execution_count": 4,
   "metadata": {},
   "outputs": [
    {
     "data": {
      "text/plain": [
       "200"
      ]
     },
     "execution_count": 4,
     "metadata": {},
     "output_type": "execute_result"
    }
   ],
   "source": [
    "## Get Covid stats from RKI\n",
    "covid_url = 'https://opendata.arcgis.com/datasets/dd4580c810204019a7b8eb3e0b329dd6_0.geojson'\n",
    "r = requests.get(covid_url)\n",
    "r.status_code"
   ]
  },
  {
   "cell_type": "code",
   "execution_count": null,
   "metadata": {},
   "outputs": [],
   "source": [
    "a = json.loads(r.content)\n",
    "df = pd.json_normalize(a['features'])\n",
    "\n",
    "df.head()"
   ]
  },
  {
   "cell_type": "code",
   "execution_count": null,
   "metadata": {},
   "outputs": [],
   "source": [
    "## Clean-up and data preparation\n",
    "df.columns = df.columns.str.replace('properties.', '')\n",
    "df = df[['IdBundesland', 'Bundesland', 'Landkreis', 'IdLandkreis', 'AnzahlFall', 'Altersgruppe', 'AnzahlTodesfall', 'Geschlecht', 'Meldedatum']]\n",
    "df['Meldedatum'] = df['Meldedatum'].str.replace('T00:00:00Z', '')\n",
    "df['Meldedatum'] = pd.to_datetime(df['Meldedatum'])\n",
    "\n",
    "df = df.merge(df_einwohner_kreis, how='left', left_on='IdLandkreis', right_on='RS')\n",
    "df = df.merge(df_einwohner_land, how='left', left_on='Bundesland', right_on='Bundesland') \n",
    "\n",
    "df_gender = pd.get_dummies(df['Geschlecht']).mul(df['AnzahlFall'],0)\n",
    "df_gender.columns = ['Sex_M', 'Sex_F', 'Sex_Unbekannt']\n",
    "df = df.join(df_gender)\n",
    "\n",
    "df_age = pd.get_dummies(df['Altersgruppe']).mul(df['AnzahlFall'],0)\n",
    "df = df.join(df_age)\n",
    "\n",
    "\n",
    "\n",
    "df.drop(['RS', 'Kreis'], axis=1, inplace=True)\n",
    "\n",
    "df.head()"
   ]
  },
  {
   "cell_type": "code",
   "execution_count": null,
   "metadata": {},
   "outputs": [],
   "source": [
    "df_bund = df.groupby(by=['Meldedatum']).agg({\n",
    "    'AnzahlFall':'sum',\n",
    "    'AnzahlTodesfall': 'sum',\n",
    "    'Sex_M': 'sum',\n",
    "    'Sex_F': 'sum',\n",
    "    'Sex_Unbekannt': 'sum',\n",
    "    'A00-A04': 'sum',\n",
    "    'A05-A14': 'sum',\n",
    "    'A15-A34': 'sum',\n",
    "    'A35-A59': 'sum',\n",
    "    'A60-A79': 'sum',\n",
    "    'A80+': 'sum',\n",
    "    'unbekannt': 'sum'\n",
    "})\n",
    "\n",
    "\n",
    "#df_bund.set_index('Region', append=True, inplace=True)\n",
    "#df_bund = df_bund.swaplevel('Region', 'Meldedatum')\n",
    "\n",
    "df_bund['Fall_Last7'] = df_bund['AnzahlFall'].rolling(min_periods=1, window=7).sum()\n",
    "df_bund['Fall_MA7'] = df_bund['AnzahlFall'].rolling(7).mean()\n",
    "df_bund['R7'] = (df_bund['Fall_MA7'].pct_change(periods=4) + 1).round(2)\n",
    "\n",
    "df_bund['Einwohner'] = df_einwohner_land['Einwohner'].sum()\n",
    "df_bund['Fall_100K'] = ((df_bund['Fall_Last7'] / df_bund['Einwohner']) * 100000).round(2)\n",
    "\n",
    "df_bund.reset_index(inplace=True)\n",
    "df_bund['Region'] = 'Deutschland'\n",
    "df_bund['Typ'] = 'Nation'\n",
    "\n",
    "\n",
    "df_bund.tail()"
   ]
  },
  {
   "cell_type": "code",
   "execution_count": null,
   "metadata": {},
   "outputs": [],
   "source": [
    "df_land = df.groupby(by=['Bundesland', 'Meldedatum']).agg({\n",
    "    'IdBundesland': 'first',\n",
    "    'AnzahlFall': 'sum',\n",
    "    'Einwohner_y': 'first',\n",
    "    'AnzahlTodesfall': 'sum',\n",
    "    'Sex_M': 'sum',\n",
    "    'Sex_F': 'sum',\n",
    "    'Sex_Unbekannt': 'sum',\n",
    "    'A00-A04': 'sum',\n",
    "    'A05-A14': 'sum',\n",
    "    'A15-A34': 'sum',\n",
    "    'A35-A59': 'sum',\n",
    "    'A60-A79': 'sum',\n",
    "    'A80+': 'sum',\n",
    "    'unbekannt': 'sum'\n",
    "})\n",
    "\n",
    "df_land.rename(columns={'Einwohner_y': 'Einwohner'}, inplace=True)\n",
    "\n",
    "#df_land.index.names = ['Region', 'Meldedatum']\n",
    "\n",
    "df_land['Fall_MA4'] = df_land.groupby(level=0, group_keys=True)['AnzahlFall'].rolling(4).mean().values\n",
    "df_land['Fall_MA7'] = df_land.groupby(level=0, group_keys=True)['AnzahlFall'].rolling(7).mean().values\n",
    "\n",
    "df_land['R4'] = df_land['Fall_MA4'].pct_change(periods=4) + 1\n",
    "df_land['R7'] = (df_land['Fall_MA7'].pct_change(periods=4) + 1).round(2)\n",
    "\n",
    "df_land['Fall_Last7'] = df_land['AnzahlFall'].rolling(min_periods=1, window=7).sum()\n",
    "df_land['Fall_100K'] = ((df_land['Fall_Last7'] / df_land['Einwohner']) * 100000).round(2)\n",
    "\n",
    "#\n",
    "\n",
    "df_land.reset_index(inplace=True)\n",
    "df_land['Region'] = df_land['Bundesland']\n",
    "df_land['Typ'] = 'Bundesland'\n",
    "\n",
    "df_land.tail()"
   ]
  },
  {
   "cell_type": "code",
   "execution_count": null,
   "metadata": {},
   "outputs": [],
   "source": [
    "df_kreis = df.groupby(by=['Landkreis', 'Meldedatum']).agg({\n",
    "    'IdLandkreis': 'first',\n",
    "    'Bundesland': 'first',\n",
    "    'AnzahlFall': 'sum',\n",
    "    'Einwohner_x': 'first',\n",
    "    'AnzahlTodesfall': 'sum',\n",
    "    'Sex_M': 'sum',\n",
    "    'Sex_F': 'sum',\n",
    "    'Sex_Unbekannt': 'sum',\n",
    "    'A00-A04': 'sum',\n",
    "    'A05-A14': 'sum',\n",
    "    'A15-A34': 'sum',\n",
    "    'A35-A59': 'sum',\n",
    "    'A60-A79': 'sum',\n",
    "    'A80+': 'sum',\n",
    "    'unbekannt': 'sum'\n",
    "})\n",
    "    \n",
    "df_kreis.rename(columns={'Einwohner_x': 'Einwohner'}, inplace=True)\n",
    "\n",
    "\n",
    "#df_kreis.index.names = ['Region', 'Meldedatum']\n",
    "\n",
    "df_kreis['Fall_MA4'] = df_kreis.groupby(level=0, group_keys=True)['AnzahlFall'].rolling(4).mean().values\n",
    "df_kreis['Fall_MA7'] = df_kreis.groupby(level=0, group_keys=True)['AnzahlFall'].rolling(7).mean().values\n",
    "\n",
    "df_kreis['R4'] = df_kreis['Fall_MA4'].pct_change(periods=4) + 1\n",
    "df_kreis['R7'] = (df_kreis['Fall_MA7'].pct_change(periods=4) + 1).round(2)\n",
    "\n",
    "df_kreis['Fall_Last7'] = df_kreis['AnzahlFall'].rolling(min_periods=1, window=7).sum()\n",
    "df_kreis['Fall_100K'] = ((df_kreis['Fall_Last7'] / df_kreis['Einwohner']) * 100000).round(2)\n",
    "\n",
    "df_kreis.reset_index(inplace=True)\n",
    "df_kreis['Region'] = df_kreis['Landkreis']\n",
    "df_kreis['Typ'] = 'Landkreis'\n",
    "\n",
    "df_kreis.tail()"
   ]
  },
  {
   "cell_type": "code",
   "execution_count": null,
   "metadata": {},
   "outputs": [],
   "source": [
    "## Final dataset\n",
    "df_merged = pd.concat([df_bund, df_land, df_kreis])\n",
    "\n",
    "## The geolocations for the districts of Berlin are not included in the dataset, \n",
    "## to have Berlin displayed on the choropleth map, I substitute the values for the federal state of Berlin.\n",
    "df_merged.loc[df_merged['Bundesland'] == 'Berlin', 'IdLandkreis'] = '11000'\n",
    "\n",
    "df_merged.tail()"
   ]
  },
  {
   "cell_type": "code",
   "execution_count": null,
   "metadata": {},
   "outputs": [],
   "source": [
    "if os.path.exists('covid_panel_backup.csv'):\n",
    "    os.remove('covid_panel_backup.csv')"
   ]
  },
  {
   "cell_type": "code",
   "execution_count": null,
   "metadata": {},
   "outputs": [],
   "source": [
    "os.rename('covid_panel.csv', 'covid_panel_backup.csv')"
   ]
  },
  {
   "cell_type": "code",
   "execution_count": null,
   "metadata": {},
   "outputs": [],
   "source": [
    "df_merged.to_csv('covid_panel.csv')"
   ]
  },
  {
   "cell_type": "code",
   "execution_count": null,
   "metadata": {},
   "outputs": [],
   "source": []
  }
 ],
 "metadata": {
  "kernelspec": {
   "display_name": "Python 3",
   "language": "python",
   "name": "python3"
  },
  "language_info": {
   "codemirror_mode": {
    "name": "ipython",
    "version": 3
   },
   "file_extension": ".py",
   "mimetype": "text/x-python",
   "name": "python",
   "nbconvert_exporter": "python",
   "pygments_lexer": "ipython3",
   "version": "3.8.8"
  }
 },
 "nbformat": 4,
 "nbformat_minor": 4
}
